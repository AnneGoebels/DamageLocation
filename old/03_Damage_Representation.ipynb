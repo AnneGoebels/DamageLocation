{
 "cells": [
  {
   "cell_type": "code",
   "execution_count": 4,
   "metadata": {},
   "outputs": [
    {
     "name": "stdout",
     "output_type": "stream",
     "text": [
      "\n"
     ]
    }
   ],
   "source": [
    "from pickle import BYTEARRAY8\n",
    "import Geom\n",
    "import Ifc\n",
    "import AOI\n",
    "from OCC.Core.BRep import BRep_Tool\n",
    "import ifcopenshell\n",
    "import ifcopenshell.geom \n",
    "import ifcopenshell.util\n",
    "import ifcopenshell.util.element\n",
    "from ifcopenshell.util.selector import Selector\n",
    "from OCC.Core.gp import (gp_Pnt)\n",
    "from OCC.Core.BRepPrimAPI import BRepPrimAPI_MakeBox\n",
    "from OCC.Core.TopAbs import TopAbs_VERTEX\n",
    "from OCC.Core.TopExp import TopExp_Explorer\n",
    "from OCC.Extend.TopologyUtils import TopologyExplorer\n",
    "import AOI,BCF\n",
    "import os\n",
    "selector = Selector()\n",
    "settings = ifcopenshell.geom.settings()\n",
    "settings.set(settings.USE_PYTHON_OPENCASCADE, True) \n",
    "\n",
    "### Enter data file name (.ttl) ###\n",
    "\n",
    "data_filename = 'st_2079.ttl'\n",
    "\n",
    "### Enter model file name (.ifc) ###\n",
    "\n",
    "filename = \"st_2079.ifc\"\n",
    "\n",
    "### Enter model file name converted to LBD-Format (.ttl) ###\n",
    "\n",
    "lbd_filename = 'st_2079_lbd.ttl'\n",
    "\n",
    "### The next files will be created \n",
    "\n",
    "bt_filename = \"control.ifc\"\n",
    "aoi_filename = \"damage.ifc\"\n",
    "point_file = \"point_representation.ifc\"\n",
    "bcf_filename = str(os.path.abspath(os.getcwd()))+\"/bcf_representation.bcf\"\n",
    "\n",
    "\n",
    "### BCF representation\n",
    "\n",
    "g = ifcopenshell.open(aoi_filename)\n",
    "aoi_elements = selector.parse(g, \".IfcBuildingElementProxy\")\n",
    "BCF.export_bcfxml(aoi_elements,bcf_filename,filename)\n",
    "\n",
    "### IFC representation\n",
    "\n",
    "AOI.create_aoi_file(data_filename,filename,point_file)\n",
    "\n",
    "h = ifcopenshell.open(point_file)\n",
    "\n",
    "\n",
    "aoi_elements = selector.parse(g, \".IfcBuildingElementProxy\")\n",
    "\n",
    "for i in aoi_elements:\n",
    "    schadenObjekt = i.Name\n",
    "    entsprichtIfcType = i.Description\n",
    "    mitte = Geom.bounding_box_center(i)\n",
    "    corner1 = gp_Pnt(mitte.X()-0.15,mitte.Y()-0.15,mitte.Z()-0.15)\n",
    "    corner2 = gp_Pnt(mitte.X()+0.15,mitte.Y()+0.15,mitte.Z()+0.15)\n",
    "    box = BRepPrimAPI_MakeBox(corner1, corner2)\n",
    "    height_box = 0.3\n",
    "    top2_up_bottom = TopologyExplorer(box.Shape())\n",
    "    for i, sol2 in enumerate(top2_up_bottom.solids()):\n",
    "        vertex_F = TopExp_Explorer(sol2,TopAbs_VERTEX)\n",
    "        x_y_F = []\n",
    "        while vertex_F.More() == True:\n",
    "            currentvertex = vertex_F.Current()\n",
    "            point = BRep_Tool.Pnt(currentvertex)\n",
    "            if[round(point.X(),2),round(point.Y(),2)] not in x_y_F:\n",
    "                x_y_F.append([round(point.X(),2),round(point.Y(),2)])\n",
    "            vertex_F.Next()\n",
    "        plea = Geom.sorted_point_list_extrusion_area(sol2,x_y_F)\n",
    "    Ifc.place_object(h,box,plea,height_box,schadenObjekt,point_file) \n"
   ]
  },
  {
   "cell_type": "code",
   "execution_count": null,
   "metadata": {},
   "outputs": [],
   "source": []
  }
 ],
 "metadata": {
  "interpreter": {
   "hash": "c18bb953e464e27bd5485c624c5fae0b74bc2cb372b9f2af102acc305745d7d2"
  },
  "kernelspec": {
   "display_name": "Python 3.9.9 ('pyocc9')",
   "language": "python",
   "name": "python3"
  },
  "language_info": {
   "codemirror_mode": {
    "name": "ipython",
    "version": 3
   },
   "file_extension": ".py",
   "mimetype": "text/x-python",
   "name": "python",
   "nbconvert_exporter": "python",
   "pygments_lexer": "ipython3",
   "version": "3.9.9"
  },
  "orig_nbformat": 4
 },
 "nbformat": 4,
 "nbformat_minor": 2
}
